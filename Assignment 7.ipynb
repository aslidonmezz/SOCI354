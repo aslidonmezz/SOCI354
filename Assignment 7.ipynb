{
 "cells": [
  {
   "cell_type": "code",
   "execution_count": 39,
   "id": "3f2fc0f0",
   "metadata": {},
   "outputs": [],
   "source": [
    "import pandas as pd\n",
    "import numpy as np\n"
   ]
  },
  {
   "cell_type": "code",
   "execution_count": null,
   "id": "fb21ff39",
   "metadata": {},
   "outputs": [],
   "source": [
    "#Data Preparation:"
   ]
  },
  {
   "cell_type": "code",
   "execution_count": 19,
   "id": "70dee219",
   "metadata": {},
   "outputs": [
    {
     "name": "stdout",
     "output_type": "stream",
     "text": [
      "   age  workclass  fnlwgt     education  educational-num      marital-status  \\\n",
      "0   25    Private  226802          11th                7       Never-married   \n",
      "1   38    Private   89814       HS-grad                9  Married-civ-spouse   \n",
      "2   28  Local-gov  336951    Assoc-acdm               12  Married-civ-spouse   \n",
      "3   44    Private  160323  Some-college               10  Married-civ-spouse   \n",
      "4   18          ?  103497  Some-college               10       Never-married   \n",
      "\n",
      "          occupation relationship   race  gender  capital-gain  capital-loss  \\\n",
      "0  Machine-op-inspct    Own-child  Black    Male             0             0   \n",
      "1    Farming-fishing      Husband  White    Male             0             0   \n",
      "2    Protective-serv      Husband  White    Male             0             0   \n",
      "3  Machine-op-inspct      Husband  Black    Male          7688             0   \n",
      "4                  ?    Own-child  White  Female             0             0   \n",
      "\n",
      "   hours-per-week native-country income  \n",
      "0              40  United-States  <=50K  \n",
      "1              50  United-States  <=50K  \n",
      "2              40  United-States   >50K  \n",
      "3              40  United-States   >50K  \n",
      "4              30  United-States  <=50K  \n",
      "Index(['age', 'workclass', 'fnlwgt', 'education', 'educational-num',\n",
      "       'marital-status', 'occupation', 'relationship', 'race', 'gender',\n",
      "       'capital-gain', 'capital-loss', 'hours-per-week', 'native-country',\n",
      "       'income'],\n",
      "      dtype='object')\n"
     ]
    }
   ],
   "source": [
    "\n",
    "df = pd.read_csv('/Users/aslidonmez/Desktop/adultincome.csv')\n",
    "print(df.head())\n",
    "print(df.columns)"
   ]
  },
  {
   "cell_type": "code",
   "execution_count": 26,
   "id": "36f0dbd7",
   "metadata": {},
   "outputs": [],
   "source": [
    "df = df.dropna()\n",
    "\n",
    "df = pd.get_dummies(df, drop_first=True)"
   ]
  },
  {
   "cell_type": "code",
   "execution_count": 27,
   "id": "3c9b6537",
   "metadata": {},
   "outputs": [],
   "source": [
    "from sklearn.preprocessing import StandardScaler\n",
    "numerical_columns = df.select_dtypes(include=['float64', 'int64']).columns\n",
    "scaler = StandardScaler()\n",
    "df[numerical_columns] = scaler.fit_transform(df[numerical_columns])"
   ]
  },
  {
   "cell_type": "code",
   "execution_count": 30,
   "id": "df320341",
   "metadata": {},
   "outputs": [
    {
     "name": "stdout",
     "output_type": "stream",
     "text": [
      "Data after encoding categorical variables:\n",
      "        age    fnlwgt  educational-num  capital-gain  capital-loss  \\\n",
      "0 -0.995129  0.351675        -1.197259     -0.144804     -0.217127   \n",
      "1 -0.046942 -0.945524        -0.419335     -0.144804     -0.217127   \n",
      "2 -0.776316  1.394723         0.747550     -0.144804     -0.217127   \n",
      "3  0.390683 -0.277844        -0.030373      0.886874     -0.217127   \n",
      "4 -1.505691 -0.815954        -0.030373     -0.144804     -0.217127   \n",
      "\n",
      "   hours-per-week  workclass_Federal-gov  workclass_Local-gov  \\\n",
      "0       -0.034087                  False                False   \n",
      "1        0.772930                  False                False   \n",
      "2       -0.034087                  False                 True   \n",
      "3       -0.034087                  False                False   \n",
      "4       -0.841104                  False                False   \n",
      "\n",
      "   workclass_Never-worked  workclass_Private  ...  native-country_Puerto-Rico  \\\n",
      "0                   False               True  ...                       False   \n",
      "1                   False               True  ...                       False   \n",
      "2                   False              False  ...                       False   \n",
      "3                   False               True  ...                       False   \n",
      "4                   False              False  ...                       False   \n",
      "\n",
      "   native-country_Scotland  native-country_South  native-country_Taiwan  \\\n",
      "0                    False                 False                  False   \n",
      "1                    False                 False                  False   \n",
      "2                    False                 False                  False   \n",
      "3                    False                 False                  False   \n",
      "4                    False                 False                  False   \n",
      "\n",
      "   native-country_Thailand  native-country_Trinadad&Tobago  \\\n",
      "0                    False                           False   \n",
      "1                    False                           False   \n",
      "2                    False                           False   \n",
      "3                    False                           False   \n",
      "4                    False                           False   \n",
      "\n",
      "   native-country_United-States  native-country_Vietnam  \\\n",
      "0                          True                   False   \n",
      "1                          True                   False   \n",
      "2                          True                   False   \n",
      "3                          True                   False   \n",
      "4                          True                   False   \n",
      "\n",
      "   native-country_Yugoslavia  income_>50K  \n",
      "0                      False        False  \n",
      "1                      False        False  \n",
      "2                      False         True  \n",
      "3                      False         True  \n",
      "4                      False        False  \n",
      "\n",
      "[5 rows x 101 columns]\n",
      "Columns in the dataframe:\n",
      "Index(['age', 'fnlwgt', 'educational-num', 'capital-gain', 'capital-loss',\n",
      "       'hours-per-week', 'workclass_Federal-gov', 'workclass_Local-gov',\n",
      "       'workclass_Never-worked', 'workclass_Private',\n",
      "       ...\n",
      "       'native-country_Puerto-Rico', 'native-country_Scotland',\n",
      "       'native-country_South', 'native-country_Taiwan',\n",
      "       'native-country_Thailand', 'native-country_Trinadad&Tobago',\n",
      "       'native-country_United-States', 'native-country_Vietnam',\n",
      "       'native-country_Yugoslavia', 'income_>50K'],\n",
      "      dtype='object', length=101)\n"
     ]
    }
   ],
   "source": [
    "numerical_columns = df.select_dtypes(include=['float64', 'int64']).columns\n",
    "scaler = StandardScaler()\n",
    "df[numerical_columns] = scaler.fit_transform(df[numerical_columns])\n",
    "\n",
    "print(\"Data after encoding categorical variables:\")\n",
    "print(df.head())\n",
    "print(\"Columns in the dataframe:\")\n",
    "print(df.columns)"
   ]
  },
  {
   "cell_type": "code",
   "execution_count": 34,
   "id": "10dd7d2e",
   "metadata": {},
   "outputs": [],
   "source": [
    "X = df.drop('income_>50K', axis=1)\n",
    "y = df['income_>50K']\n",
    "X = X.values\n",
    "y = y.values"
   ]
  },
  {
   "cell_type": "code",
   "execution_count": 35,
   "id": "4ca637d4",
   "metadata": {},
   "outputs": [
    {
     "data": {
      "text/plain": [
       "0.8405104756705112"
      ]
     },
     "execution_count": 35,
     "metadata": {},
     "output_type": "execute_result"
    }
   ],
   "source": [
    "X_train, X_test, y_train, y_test = train_test_split(X, y, test_size=0.3, random_state=21, stratify=y)\n",
    "knn=KNeighborsClassifier(n_neighbors=8)\n",
    "knn.fit(X_train,y_train)\n",
    "\n",
    "y_pred=knn.predict(X_test)\n",
    "\n",
    "knn.score(X_test, y_test)"
   ]
  },
  {
   "cell_type": "code",
   "execution_count": 33,
   "id": "aefe7a21",
   "metadata": {},
   "outputs": [],
   "source": [
    "# Model Implementation:"
   ]
  },
  {
   "cell_type": "code",
   "execution_count": null,
   "id": "3d71c764",
   "metadata": {},
   "outputs": [],
   "source": [
    "#Logistic Regression"
   ]
  },
  {
   "cell_type": "code",
   "execution_count": 49,
   "id": "aec55a40",
   "metadata": {},
   "outputs": [
    {
     "name": "stdout",
     "output_type": "stream",
     "text": [
      "Cross-validation scores: [0.85228785 0.85044529 0.84889435 0.8527846  0.85616298]\n",
      "Mean cross-validation score: 0.8521150136540658\n",
      "Standard deviation of cross-validation scores: 0.002450507469605707\n"
     ]
    }
   ],
   "source": [
    "from sklearn.model_selection import cross_val_score\n",
    "from sklearn.linear_model import LogisticRegression\n",
    "reg = LogisticRegression(max_iter=10000)\n",
    "\n",
    "cv_results = cross_val_score(reg, X, y, cv=5)\n",
    "\n",
    "print(\"Cross-validation scores:\", cv_results)\n",
    "print(\"Mean cross-validation score:\", cv_results.mean())\n",
    "print(\"Standard deviation of cross-validation scores:\", cv_results.std())"
   ]
  },
  {
   "cell_type": "code",
   "execution_count": 58,
   "id": "e26d5e45",
   "metadata": {},
   "outputs": [
    {
     "name": "stdout",
     "output_type": "stream",
     "text": [
      "Logistic Regression Metrics:\n",
      "Accuracy: 0.8517027229918788\n",
      "Precision: 0.7360963513992207\n",
      "Recall: 0.5926982316029663\n",
      "F1-score: 0.6566598198767577\n",
      "ROC AUC: 0.7629320529146078\n"
     ]
    }
   ],
   "source": [
    "\n",
    "y_pred_lr = best_log_reg.predict(X_test)\n",
    "\n",
    "accuracy_lr = accuracy_score(y_test, y_pred_lr)\n",
    "\n",
    "precision_lr = precision_score(y_test, y_pred_lr)\n",
    "\n",
    "recall_lr = recall_score(y_test, y_pred_lr)\n",
    "\n",
    "f1_lr = f1_score(y_test, y_pred_lr)\n",
    "\n",
    "roc_auc_lr = roc_auc_score(y_test, y_pred_lr)\n",
    "\n",
    "print(\"Logistic Regression Metrics:\")\n",
    "print(\"Accuracy:\", accuracy_lr)\n",
    "print(\"Precision:\", precision_lr)\n",
    "print(\"Recall:\", recall_lr)\n",
    "print(\"F1-score:\", f1_lr)\n",
    "print(\"ROC AUC:\", roc_auc_lr)\n"
   ]
  },
  {
   "cell_type": "code",
   "execution_count": 50,
   "id": "5e886634",
   "metadata": {},
   "outputs": [],
   "source": [
    "#Linear Regression"
   ]
  },
  {
   "cell_type": "code",
   "execution_count": 51,
   "id": "3ee6b162",
   "metadata": {},
   "outputs": [],
   "source": [
    "from sklearn.linear_model import LinearRegression\n",
    "from sklearn.metrics import mean_squared_error, r2_score"
   ]
  },
  {
   "cell_type": "code",
   "execution_count": 52,
   "id": "f1c5ffd3",
   "metadata": {},
   "outputs": [
    {
     "name": "stdout",
     "output_type": "stream",
     "text": [
      "Mean Squared Error: 0.11573203114638501\n",
      "R-squared: 0.36417622739541144\n"
     ]
    }
   ],
   "source": [
    "lin_reg = LinearRegression()\n",
    "lin_reg.fit(X_train, y_train)\n",
    "y_pred = lin_reg.predict(X_test)\n",
    "mse = mean_squared_error(y_test, y_pred)\n",
    "r2 = r2_score(y_test, y_pred)\n",
    "print(\"Mean Squared Error:\", mse)\n",
    "print(\"R-squared:\", r2)"
   ]
  },
  {
   "cell_type": "code",
   "execution_count": 59,
   "id": "1d93ca28",
   "metadata": {},
   "outputs": [
    {
     "name": "stdout",
     "output_type": "stream",
     "text": [
      "Logistic Regression Metrics:\n",
      "Accuracy: 0.8517027229918788\n",
      "Precision: 0.7360963513992207\n",
      "Recall: 0.5926982316029663\n",
      "F1-score: 0.6566598198767577\n",
      "ROC AUC: 0.7629320529146078\n"
     ]
    }
   ],
   "source": [
    "y_pred_ln = best_log_reg.predict(X_test)\n",
    "\n",
    "accuracy_ln = accuracy_score(y_test, y_pred_lr)\n",
    "\n",
    "precision_ln = precision_score(y_test, y_pred_lr)\n",
    "\n",
    "recall_ln = recall_score(y_test, y_pred_lr)\n",
    "\n",
    "f1_ln = f1_score(y_test, y_pred_lr)\n",
    "\n",
    "roc_auc_ln = roc_auc_score(y_test, y_pred_lr)\n",
    "\n",
    "print(\"Logistic Regression Metrics:\")\n",
    "print(\"Accuracy:\", accuracy_ln)\n",
    "print(\"Precision:\", precision_ln)\n",
    "print(\"Recall:\", recall_ln)\n",
    "print(\"F1-score:\", f1_ln)\n",
    "print(\"ROC AUC:\", roc_auc_ln)"
   ]
  },
  {
   "cell_type": "code",
   "execution_count": 53,
   "id": "e4216db2",
   "metadata": {},
   "outputs": [],
   "source": [
    "from sklearn.tree import DecisionTreeClassifier\n",
    "from sklearn.metrics import accuracy_score, precision_score, recall_score, f1_score, roc_auc_score"
   ]
  },
  {
   "cell_type": "code",
   "execution_count": 57,
   "id": "7c796a98",
   "metadata": {},
   "outputs": [
    {
     "name": "stdout",
     "output_type": "stream",
     "text": [
      "Accuracy: 0.8203098341636524\n",
      "Precision: 0.6235493914520238\n",
      "Recall: 0.6283513976041073\n",
      "F1 Score: 0.6259411848273903\n",
      "ROC AUC: 0.7545183919033365\n"
     ]
    }
   ],
   "source": [
    "dt_model = DecisionTreeClassifier(random_state=21)\n",
    "dt_model.fit(X_train, y_train)\n",
    "y_pred = dt_model.predict(X_test)\n",
    "accuracy_dt = accuracy_score(y_test, y_pred)\n",
    "precision_dt = precision_score(y_test, y_pred)\n",
    "recall_dt = recall_score(y_test, y_pred)\n",
    "f1_dt = f1_score(y_test, y_pred)\n",
    "roc_auc_dt = roc_auc_score(y_test, y_pred)\n",
    "\n",
    "print(\"Accuracy:\",accuracy_dt)\n",
    "print(\"Precision:\",precision_dt)\n",
    "print(\"Recall:\",recall_dt)\n",
    "print(\"F1 Score:\",f1_dt)\n",
    "print(\"ROC AUC:\",roc_auc_dt)"
   ]
  },
  {
   "cell_type": "code",
   "execution_count": null,
   "id": "8753bdd7",
   "metadata": {},
   "outputs": [],
   "source": [
    "# Model Tuning:"
   ]
  },
  {
   "cell_type": "code",
   "execution_count": 55,
   "id": "8ef247af",
   "metadata": {},
   "outputs": [
    {
     "name": "stderr",
     "output_type": "stream",
     "text": [
      "/Users/aslidonmez/anaconda3/lib/python3.11/site-packages/sklearn/model_selection/_validation.py:425: FitFailedWarning: \n",
      "30 fits failed out of a total of 60.\n",
      "The score on these train-test partitions for these parameters will be set to nan.\n",
      "If these failures are not expected, you can try to debug them by setting error_score='raise'.\n",
      "\n",
      "Below are more details about the failures:\n",
      "--------------------------------------------------------------------------------\n",
      "30 fits failed with the following error:\n",
      "Traceback (most recent call last):\n",
      "  File \"/Users/aslidonmez/anaconda3/lib/python3.11/site-packages/sklearn/model_selection/_validation.py\", line 732, in _fit_and_score\n",
      "    estimator.fit(X_train, y_train, **fit_params)\n",
      "  File \"/Users/aslidonmez/anaconda3/lib/python3.11/site-packages/sklearn/base.py\", line 1151, in wrapper\n",
      "    return fit_method(estimator, *args, **kwargs)\n",
      "           ^^^^^^^^^^^^^^^^^^^^^^^^^^^^^^^^^^^^^^\n",
      "  File \"/Users/aslidonmez/anaconda3/lib/python3.11/site-packages/sklearn/linear_model/_logistic.py\", line 1168, in fit\n",
      "    solver = _check_solver(self.solver, self.penalty, self.dual)\n",
      "             ^^^^^^^^^^^^^^^^^^^^^^^^^^^^^^^^^^^^^^^^^^^^^^^^^^^\n",
      "  File \"/Users/aslidonmez/anaconda3/lib/python3.11/site-packages/sklearn/linear_model/_logistic.py\", line 56, in _check_solver\n",
      "    raise ValueError(\n",
      "ValueError: Solver lbfgs supports only 'l2' or 'none' penalties, got l1 penalty.\n",
      "\n",
      "  warnings.warn(some_fits_failed_message, FitFailedWarning)\n",
      "/Users/aslidonmez/anaconda3/lib/python3.11/site-packages/sklearn/model_selection/_search.py:976: UserWarning: One or more of the test scores are non-finite: [       nan 0.83319196        nan 0.84848928        nan 0.8515019\n",
      "        nan 0.85182365        nan 0.85194064        nan 0.85202838]\n",
      "  warnings.warn(\n"
     ]
    },
    {
     "name": "stdout",
     "output_type": "stream",
     "text": [
      "Best Hyperparameters: {'C': 100, 'penalty': 'l2'}\n"
     ]
    }
   ],
   "source": [
    "from sklearn.model_selection import GridSearchCV\n",
    "param_grid = {'C': [0.001, 0.01, 0.1, 1, 10, 100],\n",
    "              'penalty': ['l1', 'l2']}\n",
    "log_reg = LogisticRegression(max_iter=10000)\n",
    "grid_search = GridSearchCV(log_reg, param_grid, cv=5, scoring='accuracy')\n",
    "grid_search.fit(X_train, y_train)\n",
    "\n",
    "best_params = grid_search.best_params_\n",
    "best_log_reg = grid_search.best_estimator_\n",
    "\n",
    "print(\"Best Hyperparameters:\", best_params)"
   ]
  },
  {
   "cell_type": "code",
   "execution_count": 56,
   "id": "9e703cce",
   "metadata": {},
   "outputs": [
    {
     "name": "stdout",
     "output_type": "stream",
     "text": [
      "Best Hyperparameters: {'max_depth': 7, 'min_samples_leaf': 4, 'min_samples_split': 10}\n"
     ]
    }
   ],
   "source": [
    "param_grid = {'max_depth': [3, 5, 7, None],\n",
    "              'min_samples_split': [2, 5, 10],\n",
    "              'min_samples_leaf': [1, 2, 4]}\n",
    "\n",
    "dt_model = DecisionTreeClassifier(random_state=21)\n",
    "\n",
    "grid_search = GridSearchCV(dt_model, param_grid, cv=5, scoring='accuracy')\n",
    "grid_search.fit(X_train, y_train)\n",
    "\n",
    "best_params = grid_search.best_params_\n",
    "best_dt_model = grid_search.best_estimator_\n",
    "\n",
    "print(\"Best Hyperparameters:\", best_params)"
   ]
  },
  {
   "cell_type": "code",
   "execution_count": null,
   "id": "41a5e4fe",
   "metadata": {},
   "outputs": [],
   "source": [
    "#Model Evaluation:"
   ]
  },
  {
   "cell_type": "code",
   "execution_count": 61,
   "id": "ed432c39",
   "metadata": {},
   "outputs": [
    {
     "name": "stdout",
     "output_type": "stream",
     "text": [
      "                 Model  Accuracy  Precision    Recall  F1-score   ROC AUC\n",
      "0  Logistic Regression  0.851703   0.736096  0.592698  0.656660  0.762932\n",
      "1        Decision Tree  0.820310   0.623549  0.628351  0.625941  0.754518\n",
      "2    Linear Regression  0.851703   0.736096  0.592698  0.656660  0.762932\n"
     ]
    }
   ],
   "source": [
    "metrics_dict = {\n",
    "    'Model': ['Logistic Regression', 'Decision Tree','Linear Regression'],\n",
    "    'Accuracy': [accuracy_lr, accuracy_dt, accuracy_ln],\n",
    "    'Precision': [precision_lr, precision_dt, precision_ln],\n",
    "    'Recall': [recall_lr, recall_dt, recall_ln],\n",
    "    'F1-score': [f1_lr, f1_dt, f1_ln],\n",
    "    'ROC AUC': [roc_auc_lr, roc_auc_dt, roc_auc_ln]\n",
    "}\n",
    "\n",
    "# Create a DataFrame from the dictionary\n",
    "metrics_df = pd.DataFrame(metrics_dict)\n",
    "\n",
    "# Display the DataFrame\n",
    "print(metrics_df)"
   ]
  },
  {
   "cell_type": "code",
   "execution_count": null,
   "id": "f0d71446",
   "metadata": {},
   "outputs": [],
   "source": [
    "#Interpretation and Reporting:"
   ]
  },
  {
   "cell_type": "markdown",
   "id": "2d31f6a3",
   "metadata": {},
   "source": [
    "Logistic Regression demonstrated the highest overall performance among the models, achieving the highest accuracy and F1-score.\n",
    "Decision Tree showed competitive performance but slightly lower accuracy and precision compared to Logistic Regression.\n",
    "Based on the findings, it's recommended to deploy the Logistic Regression model for predicting whether an individual's income is greater than 50K."
   ]
  }
 ],
 "metadata": {
  "kernelspec": {
   "display_name": "Python 3 (ipykernel)",
   "language": "python",
   "name": "python3"
  },
  "language_info": {
   "codemirror_mode": {
    "name": "ipython",
    "version": 3
   },
   "file_extension": ".py",
   "mimetype": "text/x-python",
   "name": "python",
   "nbconvert_exporter": "python",
   "pygments_lexer": "ipython3",
   "version": "3.11.5"
  }
 },
 "nbformat": 4,
 "nbformat_minor": 5
}
